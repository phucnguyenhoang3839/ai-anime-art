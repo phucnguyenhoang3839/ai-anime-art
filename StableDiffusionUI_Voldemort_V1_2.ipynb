{
  "nbformat": 4,
  "nbformat_minor": 0,
  "metadata": {
    "colab": {
      "provenance": [],
      "collapsed_sections": [
        "9qrpRUJpno7L"
      ],
      "include_colab_link": true
    },
    "kernelspec": {
      "name": "python3",
      "display_name": "Python 3"
    },
    "language_info": {
      "name": "python"
    },
    "accelerator": "GPU",
    "gpuClass": "standard"
  },
  "cells": [
    {
      "cell_type": "markdown",
      "metadata": {
        "id": "view-in-github",
        "colab_type": "text"
      },
      "source": [
        "<a href=\"https://colab.research.google.com/github/phucnguyenhoang3839/ai-anime-art/blob/main/StableDiffusionUI_Voldemort_V1_2.ipynb\" target=\"_parent\"><img src=\"https://colab.research.google.com/assets/colab-badge.svg\" alt=\"Open In Colab\"/></a>"
      ]
    },
    {
      "cell_type": "markdown",
      "source": [
        "Adapted from: https://colab.research.google.com/drive/1AfAmwLMd_Vx33O9IwY2TmO9wKZ8ABRRa"
      ],
      "metadata": {
        "id": "gfKvWAVnz8OB"
      }
    },
    {
      "cell_type": "code",
      "source": [
        "import os\n",
        "os.kill(os.getpid(), 9) # This will crash Colab (required, everything will still be intact so dont worry)"
      ],
      "metadata": {
        "id": "p8FI40sFj9tU"
      },
      "execution_count": null,
      "outputs": []
    },
    {
      "cell_type": "markdown",
      "source": [
        "Clone webui repository"
      ],
      "metadata": {
        "id": "OHCtG9MT0jLq"
      }
    },
    {
      "cell_type": "code",
      "source": [
        "!git clone https://github.com/AUTOMATIC1111/stable-diffusion-webui\n",
        "%cd stable-diffusion-webui"
      ],
      "metadata": {
        "id": "sBbcB4vwj_jm",
        "colab": {
          "base_uri": "https://localhost:8080/"
        },
        "outputId": "88b42ca9-79be-4651-9967-33d57f4a8c00"
      },
      "execution_count": 5,
      "outputs": [
        {
          "output_type": "stream",
          "name": "stdout",
          "text": [
            "Cloning into 'stable-diffusion-webui'...\n",
            "remote: Enumerating objects: 6506, done.\u001b[K\n",
            "remote: Counting objects: 100% (88/88), done.\u001b[K\n",
            "remote: Compressing objects: 100% (70/70), done.\u001b[K\n",
            "remote: Total 6506 (delta 42), reused 45 (delta 18), pack-reused 6418\u001b[K\n",
            "Receiving objects: 100% (6506/6506), 21.66 MiB | 9.79 MiB/s, done.\n",
            "Resolving deltas: 100% (4583/4583), done.\n",
            "/content/stable-diffusion-webui\n"
          ]
        }
      ]
    },
    {
      "cell_type": "markdown",
      "source": [
        "Download the model from huggingface. See link at the start for different ways."
      ],
      "metadata": {
        "id": "F0EINk5M0s-w"
      }
    },
    {
      "cell_type": "code",
      "source": [
        "#@title Normal 1.4 model\n",
        "# get a token from https://huggingface.co/settings/tokens\n",
        "user_token = \"\" #@param {type:\"string\"}\n",
        "user_header = f\"\\\"Authorization: Bearer {user_token}\\\"\"\n",
        "!wget --header={user_header} https://huggingface.co/CompVis/stable-diffusion-v-1-4-original/resolve/main/sd-v1-4.ckpt -O /content/stable-diffusion-webui/model.ckpt"
      ],
      "metadata": {
        "id": "CT_J9L7oqLxG",
        "colab": {
          "base_uri": "https://localhost:8080/"
        },
        "outputId": "ce39c4d3-a82f-4c00-ffa5-c448683eee98"
      },
      "execution_count": 6,
      "outputs": [
        {
          "output_type": "stream",
          "name": "stdout",
          "text": [
            "--2022-10-15 09:38:25--  https://huggingface.co/CompVis/stable-diffusion-v-1-4-original/resolve/main/sd-v1-4.ckpt\n",
            "Resolving huggingface.co (huggingface.co)... 54.173.5.192, 52.5.54.249, 54.210.225.113, ...\n",
            "Connecting to huggingface.co (huggingface.co)|54.173.5.192|:443... connected.\n",
            "HTTP request sent, awaiting response... 401 Unauthorized\n",
            "\n",
            "Username/Password Authentication Failed.\n"
          ]
        }
      ]
    },
    {
      "cell_type": "markdown",
      "source": [
        "Voldy doesn't explian what this does but it appears to replace the prior dependencies section, saving a few lines lmao "
      ],
      "metadata": {
        "id": "v2kY0Z05DwIN"
      }
    },
    {
      "cell_type": "code",
      "source": [
        "!COMMANDLINE_ARGS=\"--exit\" REQS_FILE=\"requirements.txt\" python launch.py"
      ],
      "metadata": {
        "colab": {
          "base_uri": "https://localhost:8080/"
        },
        "id": "IB19TzabDtYF",
        "outputId": "137244dd-9be3-4692-e095-b1ada90022d5"
      },
      "execution_count": null,
      "outputs": [
        {
          "output_type": "stream",
          "name": "stdout",
          "text": [
            "Python 3.7.14 (default, Sep  8 2022, 00:06:44) \n",
            "[GCC 7.5.0]\n",
            "Commit hash: a112168d2814d691936a7fb1d4cde5acb8440679\n",
            "Installing gfpgan\n",
            "Cloning Stable Diffusion into repositories/stable-diffusion...\n",
            "Cloning Taming Transformers into repositories/taming-transformers...\n",
            "Cloning K-diffusion into repositories/k-diffusion...\n",
            "Cloning CodeFormer into repositories/CodeFormer...\n",
            "Cloning BLIP into repositories/BLIP...\n",
            "Cloning LDSR into repositories/latent-diffusion...\n",
            "Installing requirements for CodeFormer\n",
            "Installing requirements for Web UI\n",
            "Exiting because of --exit argument\n"
          ]
        }
      ]
    },
    {
      "cell_type": "markdown",
      "source": [
        "Change into Web UI directory and download updates"
      ],
      "metadata": {
        "id": "S8nvm5f6AfaL"
      }
    },
    {
      "cell_type": "code",
      "source": [
        "%cd stable-diffusion-webui\n",
        "!git pull"
      ],
      "metadata": {
        "id": "I1j4j2NfAQye",
        "colab": {
          "base_uri": "https://localhost:8080/"
        },
        "outputId": "459503a7-31d3-4bb8-e0b4-55abacaffdc7"
      },
      "execution_count": 3,
      "outputs": [
        {
          "output_type": "stream",
          "name": "stdout",
          "text": [
            "[Errno 2] No such file or directory: 'stable-diffusion-webui'\n",
            "/content\n",
            "fatal: not a git repository (or any of the parent directories): .git\n"
          ]
        }
      ]
    },
    {
      "cell_type": "markdown",
      "source": [
        "Launch web ui. You will get a link to nnn.gradio.app, follow it.\n",
        "\n",
        "Commandline arguments are:\n",
        "  - `--share` - create online gradio.app link\n",
        "  - `--gradio-debug` - print outputs to console\n",
        "  - `--gradio-auth me:qwerty` - add authentication to gradio: username me, password qwerty"
      ],
      "metadata": {
        "id": "xt8lbdmC04ox"
      }
    },
    {
      "cell_type": "code",
      "source": [
        "!COMMANDLINE_ARGS=\"--share --gradio-debug --gradio-auth me:qwerty\" REQS_FILE=\"requirements.txt\" python launch.py"
      ],
      "metadata": {
        "id": "R-xAdMA5wxXd",
        "colab": {
          "base_uri": "https://localhost:8080/"
        },
        "outputId": "55feab78-1ab2-4fef-d5eb-34008323d1bc"
      },
      "execution_count": 4,
      "outputs": [
        {
          "output_type": "stream",
          "name": "stdout",
          "text": [
            "python3: can't open file 'launch.py': [Errno 2] No such file or directory\n"
          ]
        }
      ]
    },
    {
      "cell_type": "markdown",
      "source": [
        "commands for ***after*** you have gotten done with a session\n",
        "============================================================================"
      ],
      "metadata": {
        "id": "9qrpRUJpno7L"
      }
    },
    {
      "cell_type": "markdown",
      "source": [
        "Zip images for downloading on local drive (click the folder icon on the left, the one below {x})"
      ],
      "metadata": {
        "id": "zB-L8JpElKp-"
      }
    },
    {
      "cell_type": "code",
      "source": [
        "!zip -r /content/stable-diffusion-webui /content/stable-diffusion-webui/outputs "
      ],
      "metadata": {
        "id": "gBt5g_Dn0NFo"
      },
      "execution_count": null,
      "outputs": []
    },
    {
      "cell_type": "markdown",
      "source": [
        "Save images to Google Drive **Warning: this will cause google to scan your drive, so if you intend to use this and worry about that kind of stuff, probablly just set this up on a clean account that's just for this colab**"
      ],
      "metadata": {
        "id": "odNn2KF5lFmb"
      }
    },
    {
      "cell_type": "code",
      "source": [
        "from google.colab import drive # type: ignore\n",
        "\n",
        "try:\n",
        "   drive_path = \"/content/drive\"\n",
        "   drive.mount(drive_path,force_remount=False)\n",
        "except:\n",
        "   print(\"...error mounting drive or with drive path variables\")\n",
        "\n",
        "!cp -r \"/content/stable-diffusion-webui/outputs\" \"/content/drive/MyDrive\""
      ],
      "metadata": {
        "id": "zNEgJfbhDwI6"
      },
      "execution_count": null,
      "outputs": []
    }
  ]
}